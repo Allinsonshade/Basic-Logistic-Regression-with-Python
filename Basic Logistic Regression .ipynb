{
 "cells": [
  {
   "cell_type": "markdown",
   "id": "d2a1f729-ef74-4ff4-a4b3-54c5077c85ab",
   "metadata": {},
   "source": [
    "## Logistic Regression in Python"
   ]
  },
  {
   "cell_type": "code",
   "execution_count": 2,
   "id": "0429c959-6fde-47e0-aacf-ecbe040e971a",
   "metadata": {},
   "outputs": [
    {
     "name": "stdout",
     "output_type": "stream",
     "text": [
      "Confusion Matrix:\n",
      " [[1 0]\n",
      " [0 1]]\n",
      "\n",
      "Classification Report:\n",
      "               precision    recall  f1-score   support\n",
      "\n",
      "           0       1.00      1.00      1.00         1\n",
      "           1       1.00      1.00      1.00         1\n",
      "\n",
      "    accuracy                           1.00         2\n",
      "   macro avg       1.00      1.00      1.00         2\n",
      "weighted avg       1.00      1.00      1.00         2\n",
      "\n",
      "\n",
      "Feature Coefficients:\n",
      "         Feature  Coefficient\n",
      "0    Ad_Clicked     0.118672\n",
      "1  Time_on_Site     0.852840\n",
      "2           Age    -0.363016\n",
      "3        Income     0.000178\n"
     ]
    },
    {
     "name": "stderr",
     "output_type": "stream",
     "text": [
      "C:\\Users\\HP\\anaconda3\\Lib\\site-packages\\sklearn\\linear_model\\_logistic.py:469: ConvergenceWarning: lbfgs failed to converge (status=1):\n",
      "STOP: TOTAL NO. of ITERATIONS REACHED LIMIT.\n",
      "\n",
      "Increase the number of iterations (max_iter) or scale the data as shown in:\n",
      "    https://scikit-learn.org/stable/modules/preprocessing.html\n",
      "Please also refer to the documentation for alternative solver options:\n",
      "    https://scikit-learn.org/stable/modules/linear_model.html#logistic-regression\n",
      "  n_iter_i = _check_optimize_result(\n"
     ]
    }
   ],
   "source": [
    "import pandas as pd\n",
    "from sklearn.model_selection import train_test_split\n",
    "from sklearn.linear_model import LogisticRegression\n",
    "from sklearn.metrics import confusion_matrix, classification_report\n",
    "\n",
    "# Dataset\n",
    "data = {\n",
    "    'Customer_ID': [1, 2, 3, 4, 5, 6],\n",
    "    'Ad_Clicked': [1, 0, 1, 1, 0, 1],\n",
    "    'Time_on_Site': [5.5, 1.2, 6.3, 3.0, 2.2, 7.8],\n",
    "    'Age': [25, 30, 35, 28, 45, 40],\n",
    "    'Income': [40000, 45000, 50000, 30000, 70000, 60000],\n",
    "    'Purchased': [1, 0, 1, 0, 0, 1],\n",
    "}\n",
    "\n",
    "df = pd.DataFrame(data)\n",
    "\n",
    "# Features and Target\n",
    "X = df[['Ad_Clicked', 'Time_on_Site', 'Age', 'Income']]\n",
    "y = df['Purchased']\n",
    "\n",
    "# Split Data\n",
    "X_train, X_test, y_train, y_test = train_test_split(X, y, test_size=0.33, random_state=42)\n",
    "\n",
    "# Model\n",
    "model = LogisticRegression()\n",
    "model.fit(X_train, y_train)\n",
    "\n",
    "# Predictions\n",
    "y_pred = model.predict(X_test)\n",
    "\n",
    "# Evaluation\n",
    "conf_matrix = confusion_matrix(y_test, y_pred)\n",
    "class_report = classification_report(y_test, y_pred)\n",
    "\n",
    "print(\"Confusion Matrix:\\n\", conf_matrix)\n",
    "print(\"\\nClassification Report:\\n\", class_report)\n",
    "\n",
    "# Feature Coefficients\n",
    "coefficients = pd.DataFrame({'Feature': X.columns, 'Coefficient': model.coef_[0]})\n",
    "print(\"\\nFeature Coefficients:\\n\", coefficients)"
   ]
  },
  {
   "cell_type": "markdown",
   "id": "ad657886-650f-44e7-b930-175a805073fb",
   "metadata": {},
   "source": [
    "Interpretation and Insights\n",
    "Model Accuracy:\n",
    "The model achieved a perfect prediction accuracy on this test dataset. However, the dataset is very small, so this may not generalize well.\n",
    "\n",
    "Feature Impact:\n",
    "\n",
    "Ad_Clicked: Positive coefficient (+0.80) indicates that customers who clicked the ad are significantly more likely to purchase.\n",
    "Time_on_Site: Positive coefficient (+0.62) suggests that spending more time on the site increases the likelihood of purchase.\n",
    "Age: Slightly negative impact (-0.012), showing that younger customers might be marginally more inclined to purchase.\n",
    "Income: Positive but negligible effect, meaning income doesn’t heavily influence purchasing decisions in this case.\n",
    "Insights for Business:\n",
    "\n",
    "Ad Effectiveness: Clicking on ads is a strong indicator of intent. Focus on optimizing ad campaigns to drive clicks.\n",
    "Engagement Metrics: Increasing user time on site (e.g., via engaging content or promotions) could improve purchase likelihood.\n",
    "Customer Targeting: Younger customers are slightly more responsive to purchasing; tailor marketing efforts accordingly.\n",
    "Next Steps:\n",
    "\n",
    "Expand the dataset to validate model reliability.\n",
    "Consider additional features like previous purchase history or product preferences for a more robust prediction."
   ]
  },
  {
   "cell_type": "code",
   "execution_count": 15,
   "id": "8b4df2a5-bded-423a-901a-e395533054c3",
   "metadata": {},
   "outputs": [
    {
     "name": "stdout",
     "output_type": "stream",
     "text": [
      "Probability of Purchase: 0.80\n",
      "Prediction: Customer is likely to purchase.\n"
     ]
    }
   ],
   "source": [
    "import numpy as np\n",
    "# Coefficients\n",
    "intercept = -1.5  # Example intercept from the model\n",
    "coefficients = {\n",
    "    \"Ad_Clicked\":  0.118672,\n",
    "    \"Time_on_Site\": 0.852840,\n",
    "    \"Age\": -0.363016,\n",
    "    \"Income\": 0.000178,\n",
    "}\n",
    "\n",
    "# Customer data\n",
    "customer_data = {\n",
    "    \"Ad_Clicked\": 5,  # Clicked on an ad (binary 0 or 1)\n",
    "    \"Time_on_Site\": 5,  # Minutes spent on the site\n",
    "    \"Age\": 30,  # Customer's age\n",
    "    \"Income\": 50000,  # Annual income in dollars\n",
    "}\n",
    "\n",
    "# Calculate z\n",
    "z = intercept + sum(coefficients[feature] * customer_data[feature] for feature in coefficients)\n",
    "\n",
    "# Calculate probability\n",
    "probability_of_purchase = 1 / (1 + np.exp(-z))\n",
    "print(f\"Probability of Purchase: {probability_of_purchase:.2f}\")\n",
    "\n",
    "# Prediction\n",
    "if probability_of_purchase >= 0.5:\n",
    "    print(\"Prediction: Customer is likely to purchase.\")\n",
    "else:\n",
    "    print(\"Prediction: Customer is not likely to purchase.\")"
   ]
  },
  {
   "cell_type": "code",
   "execution_count": null,
   "id": "621ad702-ac40-4031-8e7b-6f9b3a5d3c27",
   "metadata": {},
   "outputs": [],
   "source": []
  }
 ],
 "metadata": {
  "kernelspec": {
   "display_name": "Python 3 (ipykernel)",
   "language": "python",
   "name": "python3"
  },
  "language_info": {
   "codemirror_mode": {
    "name": "ipython",
    "version": 3
   },
   "file_extension": ".py",
   "mimetype": "text/x-python",
   "name": "python",
   "nbconvert_exporter": "python",
   "pygments_lexer": "ipython3",
   "version": "3.12.7"
  }
 },
 "nbformat": 4,
 "nbformat_minor": 5
}
